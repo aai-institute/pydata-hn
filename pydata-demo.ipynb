{
 "cells": [
  {
   "cell_type": "markdown",
   "metadata": {
    "slideshow": {
     "slide_type": "slide"
    }
   },
   "source": [
    "# Using lakeFS-spec to interact with lakeFS"
   ]
  },
  {
   "cell_type": "markdown",
   "metadata": {
    "slideshow": {
     "slide_type": "slide"
    }
   },
   "source": [
    "### lakeFS-spec makes versioned data available via a filesystem interface"
   ]
  },
  {
   "cell_type": "code",
   "execution_count": 1,
   "metadata": {
    "slideshow": {
     "slide_type": "fragment"
    }
   },
   "outputs": [
    {
     "data": {
      "text/html": [
       "<div>\n",
       "<style scoped>\n",
       "    .dataframe tbody tr th:only-of-type {\n",
       "        vertical-align: middle;\n",
       "    }\n",
       "\n",
       "    .dataframe tbody tr th {\n",
       "        vertical-align: top;\n",
       "    }\n",
       "\n",
       "    .dataframe thead th {\n",
       "        text-align: right;\n",
       "    }\n",
       "</style>\n",
       "<table border=\"1\" class=\"dataframe\">\n",
       "  <thead>\n",
       "    <tr style=\"text-align: right;\">\n",
       "      <th></th>\n",
       "      <th>Hylak_id</th>\n",
       "      <th>Lake_name</th>\n",
       "      <th>Country</th>\n",
       "      <th>Depth_m</th>\n",
       "    </tr>\n",
       "  </thead>\n",
       "  <tbody>\n",
       "    <tr>\n",
       "      <th>0</th>\n",
       "      <td>1</td>\n",
       "      <td>Caspian Sea</td>\n",
       "      <td>Russia</td>\n",
       "      <td>1025.0</td>\n",
       "    </tr>\n",
       "    <tr>\n",
       "      <th>1</th>\n",
       "      <td>2</td>\n",
       "      <td>Great Bear</td>\n",
       "      <td>Canada</td>\n",
       "      <td>446.0</td>\n",
       "    </tr>\n",
       "    <tr>\n",
       "      <th>2</th>\n",
       "      <td>3</td>\n",
       "      <td>Great Slave</td>\n",
       "      <td>Canada</td>\n",
       "      <td>614.0</td>\n",
       "    </tr>\n",
       "    <tr>\n",
       "      <th>3</th>\n",
       "      <td>4</td>\n",
       "      <td>Winnipeg</td>\n",
       "      <td>Canada</td>\n",
       "      <td>36.0</td>\n",
       "    </tr>\n",
       "    <tr>\n",
       "      <th>4</th>\n",
       "      <td>5</td>\n",
       "      <td>Superior</td>\n",
       "      <td>United States of America</td>\n",
       "      <td>406.0</td>\n",
       "    </tr>\n",
       "  </tbody>\n",
       "</table>\n",
       "</div>"
      ],
      "text/plain": [
       "   Hylak_id    Lake_name                   Country  Depth_m\n",
       "0         1  Caspian Sea                    Russia   1025.0\n",
       "1         2   Great Bear                    Canada    446.0\n",
       "2         3  Great Slave                    Canada    614.0\n",
       "3         4     Winnipeg                    Canada     36.0\n",
       "4         5     Superior  United States of America    406.0"
      ]
     },
     "execution_count": 1,
     "metadata": {},
     "output_type": "execute_result"
    }
   ],
   "source": [
    "import pandas as pd\n",
    "\n",
    "df = pd.read_parquet(\"lakefs://pydata-hn/main/lakes.parquet\")\n",
    "df.head()"
   ]
  },
  {
   "cell_type": "markdown",
   "metadata": {
    "slideshow": {
     "slide_type": "slide"
    }
   },
   "source": [
    "\n",
    "\n",
    "\n",
    "\n",
    "\n",
    "\n",
    "\n",
    "\n",
    "\n",
    "\n",
    "\n",
    "### The same way, we can write files"
   ]
  },
  {
   "cell_type": "code",
   "execution_count": 2,
   "metadata": {
    "slideshow": {
     "slide_type": "fragment"
    }
   },
   "outputs": [
    {
     "data": {
      "text/html": [
       "<div>\n",
       "<style scoped>\n",
       "    .dataframe tbody tr th:only-of-type {\n",
       "        vertical-align: middle;\n",
       "    }\n",
       "\n",
       "    .dataframe tbody tr th {\n",
       "        vertical-align: top;\n",
       "    }\n",
       "\n",
       "    .dataframe thead th {\n",
       "        text-align: right;\n",
       "    }\n",
       "</style>\n",
       "<table border=\"1\" class=\"dataframe\">\n",
       "  <thead>\n",
       "    <tr style=\"text-align: right;\">\n",
       "      <th></th>\n",
       "      <th>Hylak_id</th>\n",
       "      <th>Lake_name</th>\n",
       "      <th>Country</th>\n",
       "      <th>Depth_m</th>\n",
       "    </tr>\n",
       "  </thead>\n",
       "  <tbody>\n",
       "    <tr>\n",
       "      <th>1186</th>\n",
       "      <td>1187</td>\n",
       "      <td>Muritz</td>\n",
       "      <td>Germany</td>\n",
       "      <td>18.461577</td>\n",
       "    </tr>\n",
       "    <tr>\n",
       "      <th>13367</th>\n",
       "      <td>13368</td>\n",
       "      <td></td>\n",
       "      <td>Germany</td>\n",
       "      <td>99.121739</td>\n",
       "    </tr>\n",
       "    <tr>\n",
       "      <th>13382</th>\n",
       "      <td>13383</td>\n",
       "      <td></td>\n",
       "      <td>Germany</td>\n",
       "      <td>29.004134</td>\n",
       "    </tr>\n",
       "    <tr>\n",
       "      <th>13399</th>\n",
       "      <td>13400</td>\n",
       "      <td></td>\n",
       "      <td>Germany</td>\n",
       "      <td>16.637063</td>\n",
       "    </tr>\n",
       "    <tr>\n",
       "      <th>13423</th>\n",
       "      <td>13424</td>\n",
       "      <td></td>\n",
       "      <td>Germany</td>\n",
       "      <td>79.615976</td>\n",
       "    </tr>\n",
       "  </tbody>\n",
       "</table>\n",
       "</div>"
      ],
      "text/plain": [
       "       Hylak_id Lake_name  Country    Depth_m\n",
       "1186       1187    Muritz  Germany  18.461577\n",
       "13367     13368            Germany  99.121739\n",
       "13382     13383            Germany  29.004134\n",
       "13399     13400            Germany  16.637063\n",
       "13423     13424            Germany  79.615976"
      ]
     },
     "execution_count": 2,
     "metadata": {},
     "output_type": "execute_result"
    }
   ],
   "source": [
    "german_lakes = df[df['Country'] == \"Germany\"]\n",
    "german_lakes.head()"
   ]
  },
  {
   "cell_type": "code",
   "execution_count": 3,
   "metadata": {
    "slideshow": {
     "slide_type": "slide"
    }
   },
   "outputs": [],
   "source": [
    "from lakefs_spec import LakeFSFileSystem\n",
    "\n",
    "fs = LakeFSFileSystem()"
   ]
  },
  {
   "cell_type": "code",
   "execution_count": 4,
   "metadata": {
    "slideshow": {
     "slide_type": "fragment"
    }
   },
   "outputs": [],
   "source": [
    "with fs.transaction(\"pydata-hn\", \"main\") as tx:\n",
    "    german_lakes.to_parquet(f\"lakefs://{tx.repository}/{tx.branch.id}/german_lakes.parquet\")\n",
    "    tx.commit(message=\"Extract German lakes\")"
   ]
  },
  {
   "cell_type": "markdown",
   "metadata": {
    "slideshow": {
     "slide_type": "slide"
    }
   },
   "source": [
    "### We can access arbitrary files with `open()`"
   ]
  },
  {
   "cell_type": "code",
   "execution_count": 5,
   "metadata": {
    "slideshow": {
     "slide_type": "fragment"
    }
   },
   "outputs": [],
   "source": [
    "import json\n",
    "from pathlib import Path\n",
    "\n",
    "with fs.transaction(\"pydata-hn\", \"main\") as tx:\n",
    "    with fs.open(f\"lakefs://{tx.repository}/{tx.branch.id}/experiment.json\", \"w\") as f:\n",
    "        data = Path(\"experiment.json\").read_text()\n",
    "        json.dump(data, f)\n",
    "    tx.commit(message=\"Add experiment json\")"
   ]
  },
  {
   "cell_type": "markdown",
   "metadata": {
    "slideshow": {
     "slide_type": "slide"
    }
   },
   "source": [
    "### With the transaction API, we can perform complex versioning operations"
   ]
  },
  {
   "cell_type": "code",
   "execution_count": 6,
   "metadata": {
    "slideshow": {
     "slide_type": "fragment"
    }
   },
   "outputs": [],
   "source": [
    "from sklearn.model_selection import train_test_split\n",
    "\n",
    "train, test = train_test_split(df)"
   ]
  },
  {
   "cell_type": "code",
   "execution_count": 7,
   "metadata": {
    "slideshow": {
     "slide_type": "fragment"
    }
   },
   "outputs": [
    {
     "name": "stdout",
     "output_type": "stream",
     "text": [
      "Reference(repository=\"pydata-hn\", id=\"3036efd02f0e5feb5aa3f4ac4f257682dfc07bb7ef60bde9484d9d08f238bff6\")\n"
     ]
    }
   ],
   "source": [
    "with fs.transaction(\n",
    "    \"pydata-hn\",\n",
    "    base_branch=\"main\",\n",
    "    branch_name=\"demo-experiment\",\n",
    "    automerge=False,\n",
    "    delete=\"never\",\n",
    ") as tx:\n",
    "    train.to_csv(f\"lakefs://{tx.repository}/{tx.branch.id}/train.csv\")\n",
    "    test.to_csv(f\"lakefs://{tx.repository}/{tx.branch.id}/test.csv\")\n",
    "    \n",
    "    commit = tx.commit(message=\"Create train test split\")\n",
    "print(commit)"
   ]
  },
  {
   "cell_type": "markdown",
   "metadata": {
    "slideshow": {
     "slide_type": "slide"
    }
   },
   "source": [
    "### We can also merge branches and reference repository states using tags"
   ]
  },
  {
   "cell_type": "code",
   "execution_count": 9,
   "metadata": {
    "slideshow": {
     "slide_type": "fragment"
    }
   },
   "outputs": [
    {
     "name": "stdout",
     "output_type": "stream",
     "text": [
      "Tag(repository=\"pydata-hn\", id=\"PyDataDemo2\")\n"
     ]
    }
   ],
   "source": [
    "with fs.transaction(\"pydata-hn\", \"main\"):\n",
    "    tx.merge(source_ref=\"main\", into=\"demo-experiment\")\n",
    "    tag = tx.tag(ref=commit.id, name=\"PyDataDemo\")\n",
    "print(tag)"
   ]
  },
  {
   "cell_type": "code",
   "execution_count": 10,
   "metadata": {
    "slideshow": {
     "slide_type": "fragment"
    }
   },
   "outputs": [
    {
     "data": {
      "text/html": [
       "<div>\n",
       "<style scoped>\n",
       "    .dataframe tbody tr th:only-of-type {\n",
       "        vertical-align: middle;\n",
       "    }\n",
       "\n",
       "    .dataframe tbody tr th {\n",
       "        vertical-align: top;\n",
       "    }\n",
       "\n",
       "    .dataframe thead th {\n",
       "        text-align: right;\n",
       "    }\n",
       "</style>\n",
       "<table border=\"1\" class=\"dataframe\">\n",
       "  <thead>\n",
       "    <tr style=\"text-align: right;\">\n",
       "      <th></th>\n",
       "      <th>Hylak_id</th>\n",
       "      <th>Lake_name</th>\n",
       "      <th>Country</th>\n",
       "      <th>Depth_m</th>\n",
       "    </tr>\n",
       "  </thead>\n",
       "  <tbody>\n",
       "    <tr>\n",
       "      <th>12289</th>\n",
       "      <td>12290</td>\n",
       "      <td></td>\n",
       "      <td>Finland</td>\n",
       "      <td>27.749067</td>\n",
       "    </tr>\n",
       "    <tr>\n",
       "      <th>22651</th>\n",
       "      <td>22652</td>\n",
       "      <td></td>\n",
       "      <td>Canada</td>\n",
       "      <td>15.471857</td>\n",
       "    </tr>\n",
       "    <tr>\n",
       "      <th>42077</th>\n",
       "      <td>42078</td>\n",
       "      <td></td>\n",
       "      <td>Canada</td>\n",
       "      <td>12.280825</td>\n",
       "    </tr>\n",
       "    <tr>\n",
       "      <th>78372</th>\n",
       "      <td>78373</td>\n",
       "      <td></td>\n",
       "      <td>Canada</td>\n",
       "      <td>11.237657</td>\n",
       "    </tr>\n",
       "    <tr>\n",
       "      <th>53567</th>\n",
       "      <td>53568</td>\n",
       "      <td></td>\n",
       "      <td>Canada</td>\n",
       "      <td>19.290865</td>\n",
       "    </tr>\n",
       "    <tr>\n",
       "      <th>...</th>\n",
       "      <td>...</td>\n",
       "      <td>...</td>\n",
       "      <td>...</td>\n",
       "      <td>...</td>\n",
       "    </tr>\n",
       "    <tr>\n",
       "      <th>8736</th>\n",
       "      <td>8737</td>\n",
       "      <td></td>\n",
       "      <td>Canada</td>\n",
       "      <td>27.715888</td>\n",
       "    </tr>\n",
       "    <tr>\n",
       "      <th>25266</th>\n",
       "      <td>25267</td>\n",
       "      <td></td>\n",
       "      <td>Canada</td>\n",
       "      <td>14.689580</td>\n",
       "    </tr>\n",
       "    <tr>\n",
       "      <th>87150</th>\n",
       "      <td>87151</td>\n",
       "      <td></td>\n",
       "      <td>Canada</td>\n",
       "      <td>15.636295</td>\n",
       "    </tr>\n",
       "    <tr>\n",
       "      <th>64261</th>\n",
       "      <td>64262</td>\n",
       "      <td></td>\n",
       "      <td>Canada</td>\n",
       "      <td>19.456921</td>\n",
       "    </tr>\n",
       "    <tr>\n",
       "      <th>23279</th>\n",
       "      <td>23280</td>\n",
       "      <td></td>\n",
       "      <td>Canada</td>\n",
       "      <td>12.181269</td>\n",
       "    </tr>\n",
       "  </tbody>\n",
       "</table>\n",
       "<p>25000 rows × 4 columns</p>\n",
       "</div>"
      ],
      "text/plain": [
       "       Hylak_id Lake_name  Country    Depth_m\n",
       "12289     12290            Finland  27.749067\n",
       "22651     22652             Canada  15.471857\n",
       "42077     42078             Canada  12.280825\n",
       "78372     78373             Canada  11.237657\n",
       "53567     53568             Canada  19.290865\n",
       "...         ...       ...      ...        ...\n",
       "8736       8737             Canada  27.715888\n",
       "25266     25267             Canada  14.689580\n",
       "87150     87151             Canada  15.636295\n",
       "64261     64262             Canada  19.456921\n",
       "23279     23280             Canada  12.181269\n",
       "\n",
       "[25000 rows x 4 columns]"
      ]
     },
     "execution_count": 10,
     "metadata": {},
     "output_type": "execute_result"
    }
   ],
   "source": [
    "test_df = pd.read_csv(\"lakefs://pydata-hn/PyDataDemo/test.csv\", index_col=0)\n",
    "test_df"
   ]
  },
  {
   "cell_type": "markdown",
   "metadata": {
    "slideshow": {
     "slide_type": "slide"
    }
   },
   "source": [
    "### We can use unique identifiers for automated versioning"
   ]
  },
  {
   "cell_type": "code",
   "execution_count": 11,
   "metadata": {
    "slideshow": {
     "slide_type": "fragment"
    }
   },
   "outputs": [
    {
     "name": "stdout",
     "output_type": "stream",
     "text": [
      "Reference(repository=\"pydata-hn\", id=\"3036efd02f0e5feb5aa3f4ac4f257682dfc07bb7ef60bde9484d9d08f238bff6\")\n"
     ]
    }
   ],
   "source": [
    "print(commit)"
   ]
  },
  {
   "cell_type": "code",
   "execution_count": 12,
   "metadata": {
    "slideshow": {
     "slide_type": "fragment"
    }
   },
   "outputs": [
    {
     "data": {
      "text/html": [
       "<div>\n",
       "<style scoped>\n",
       "    .dataframe tbody tr th:only-of-type {\n",
       "        vertical-align: middle;\n",
       "    }\n",
       "\n",
       "    .dataframe tbody tr th {\n",
       "        vertical-align: top;\n",
       "    }\n",
       "\n",
       "    .dataframe thead th {\n",
       "        text-align: right;\n",
       "    }\n",
       "</style>\n",
       "<table border=\"1\" class=\"dataframe\">\n",
       "  <thead>\n",
       "    <tr style=\"text-align: right;\">\n",
       "      <th></th>\n",
       "      <th>Hylak_id</th>\n",
       "      <th>Lake_name</th>\n",
       "      <th>Country</th>\n",
       "      <th>Depth_m</th>\n",
       "    </tr>\n",
       "  </thead>\n",
       "  <tbody>\n",
       "    <tr>\n",
       "      <th>0</th>\n",
       "      <td>1</td>\n",
       "      <td>Caspian Sea</td>\n",
       "      <td>Russia</td>\n",
       "      <td>1025.000000</td>\n",
       "    </tr>\n",
       "    <tr>\n",
       "      <th>1</th>\n",
       "      <td>2</td>\n",
       "      <td>Great Bear</td>\n",
       "      <td>Canada</td>\n",
       "      <td>446.000000</td>\n",
       "    </tr>\n",
       "    <tr>\n",
       "      <th>2</th>\n",
       "      <td>3</td>\n",
       "      <td>Great Slave</td>\n",
       "      <td>Canada</td>\n",
       "      <td>614.000000</td>\n",
       "    </tr>\n",
       "    <tr>\n",
       "      <th>3</th>\n",
       "      <td>4</td>\n",
       "      <td>Winnipeg</td>\n",
       "      <td>Canada</td>\n",
       "      <td>36.000000</td>\n",
       "    </tr>\n",
       "    <tr>\n",
       "      <th>4</th>\n",
       "      <td>5</td>\n",
       "      <td>Superior</td>\n",
       "      <td>United States of America</td>\n",
       "      <td>406.000000</td>\n",
       "    </tr>\n",
       "    <tr>\n",
       "      <th>...</th>\n",
       "      <td>...</td>\n",
       "      <td>...</td>\n",
       "      <td>...</td>\n",
       "      <td>...</td>\n",
       "    </tr>\n",
       "    <tr>\n",
       "      <th>99995</th>\n",
       "      <td>99996</td>\n",
       "      <td></td>\n",
       "      <td>Canada</td>\n",
       "      <td>6.580317</td>\n",
       "    </tr>\n",
       "    <tr>\n",
       "      <th>99996</th>\n",
       "      <td>99997</td>\n",
       "      <td></td>\n",
       "      <td>Canada</td>\n",
       "      <td>9.083196</td>\n",
       "    </tr>\n",
       "    <tr>\n",
       "      <th>99997</th>\n",
       "      <td>99998</td>\n",
       "      <td></td>\n",
       "      <td>Canada</td>\n",
       "      <td>20.822592</td>\n",
       "    </tr>\n",
       "    <tr>\n",
       "      <th>99998</th>\n",
       "      <td>99999</td>\n",
       "      <td></td>\n",
       "      <td>Canada</td>\n",
       "      <td>10.418225</td>\n",
       "    </tr>\n",
       "    <tr>\n",
       "      <th>99999</th>\n",
       "      <td>100000</td>\n",
       "      <td></td>\n",
       "      <td>Canada</td>\n",
       "      <td>20.179936</td>\n",
       "    </tr>\n",
       "  </tbody>\n",
       "</table>\n",
       "<p>100000 rows × 4 columns</p>\n",
       "</div>"
      ],
      "text/plain": [
       "       Hylak_id    Lake_name                   Country      Depth_m\n",
       "0             1  Caspian Sea                    Russia  1025.000000\n",
       "1             2   Great Bear                    Canada   446.000000\n",
       "2             3  Great Slave                    Canada   614.000000\n",
       "3             4     Winnipeg                    Canada    36.000000\n",
       "4             5     Superior  United States of America   406.000000\n",
       "...         ...          ...                       ...          ...\n",
       "99995     99996                                 Canada     6.580317\n",
       "99996     99997                                 Canada     9.083196\n",
       "99997     99998                                 Canada    20.822592\n",
       "99998     99999                                 Canada    10.418225\n",
       "99999    100000                                 Canada    20.179936\n",
       "\n",
       "[100000 rows x 4 columns]"
      ]
     },
     "execution_count": 12,
     "metadata": {},
     "output_type": "execute_result"
    }
   ],
   "source": [
    "df = pd.read_parquet(f\"lakefs://pydata-hn/{commit.id}/lakes.parquet\")\n",
    "df"
   ]
  },
  {
   "cell_type": "markdown",
   "metadata": {
    "slideshow": {
     "slide_type": "slide"
    }
   },
   "source": [
    "### Summary"
   ]
  },
  {
   "cell_type": "markdown",
   "metadata": {
    "slideshow": {
     "slide_type": "fragment"
    }
   },
   "source": [
    "lakeFS & lakeFS-spec\n",
    "- Easy read an write operations by adding lakeFS URIs to your filesystem\n",
    "- Git-style versioning and collaboration features\n",
    "- Transactions as a safeguarded way to programmatically conduct versioning operations\n",
    "\n",
    "Niceties\n",
    "- Automatic authentication discovery\n",
    "- Caching for up and downloads"
   ]
  },
  {
   "cell_type": "markdown",
   "metadata": {
    "slideshow": {
     "slide_type": "slide"
    }
   },
   "source": [
    "# Questions?\n",
    "![Our GitHub Repo](lakefs-spec-github-qrcode.png)\n",
    "\n",
    "`pip install lakefs-spec`"
   ]
  }
 ],
 "metadata": {
  "celltoolbar": "Slideshow",
  "kernelspec": {
   "display_name": "Python 3 (ipykernel)",
   "language": "python",
   "name": "python3"
  },
  "language_info": {
   "codemirror_mode": {
    "name": "ipython",
    "version": 3
   },
   "file_extension": ".py",
   "mimetype": "text/x-python",
   "name": "python",
   "nbconvert_exporter": "python",
   "pygments_lexer": "ipython3",
   "version": "3.11.3"
  }
 },
 "nbformat": 4,
 "nbformat_minor": 4
}
